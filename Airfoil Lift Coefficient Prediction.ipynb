{
 "cells": [
  {
   "cell_type": "markdown",
   "id": "eb9bacee",
   "metadata": {},
   "source": [
    "# Airfoil Lift Coefficient Prediction\n",
    "Airfoil Lift Coefficient Prediction using Multi-layer CNNs\n",
    "\n",
    "\n",
    "## Contents\n",
    "* Loading Dataset\n",
    "* Preparing and Cleaning Data\n",
    "* Preprocessing Data\n",
    "* Creating Model\n",
    "* Evaluating Model"
   ]
  },
  {
   "cell_type": "code",
   "execution_count": 42,
   "id": "076fa6f7",
   "metadata": {},
   "outputs": [],
   "source": [
    "import warnings\n",
    "warnings.filterwarnings('ignore')\n",
    "import numpy as np\n",
    "from keras.callbacks import EarlyStopping, ReduceLROnPlateau\n",
    "from openpyxl import load_workbook\n",
    "from sklearn.preprocessing import StandardScaler\n",
    "from PIL import Image as PILImage\n",
    "import pandas as pd\n",
    "import matplotlib.pyplot as plt\n",
    "from sklearn.model_selection import train_test_split\n",
    "from keras.optimizers import SGD\n",
    "import openpyxl\n",
    "from openpyxl_image_loader import SheetImageLoader\n",
    "import io\n",
    "import seaborn as sns\n",
    "from openpyxl.drawing.image import Image\n",
    "from sklearn.metrics import mean_absolute_error, r2_score\n",
    "from tensorflow.keras import regularizers\n",
    "from tensorflow.keras.utils import plot_model\n",
    "from tensorflow.keras.optimizers import Adam\n",
    "from tensorflow.keras.models import Model, Sequential\n",
    "from tensorflow.keras.layers import concatenate, Input, Conv2D, MaxPooling2D, Activation, Dense, Flatten, Dropout\n",
    "from tensorflow.keras.layers import BatchNormalization"
   ]
  },
  {
   "cell_type": "markdown",
   "id": "19560bef",
   "metadata": {},
   "source": [
    "**Reading textual data** (unnecessary columns has been removed)"
   ]
  },
  {
   "cell_type": "code",
   "execution_count": 43,
   "id": "86839037",
   "metadata": {},
   "outputs": [],
   "source": [
    "data = pd.read_excel('final edition.xlsx').drop(['AIRFOIL'], axis=1).iloc[:, :-1]"
   ]
  },
  {
   "cell_type": "code",
   "execution_count": 44,
   "id": "755ca2b9",
   "metadata": {},
   "outputs": [
    {
     "data": {
      "text/html": [
       "<div>\n",
       "<style scoped>\n",
       "    .dataframe tbody tr th:only-of-type {\n",
       "        vertical-align: middle;\n",
       "    }\n",
       "\n",
       "    .dataframe tbody tr th {\n",
       "        vertical-align: top;\n",
       "    }\n",
       "\n",
       "    .dataframe thead th {\n",
       "        text-align: right;\n",
       "    }\n",
       "</style>\n",
       "<table border=\"1\" class=\"dataframe\">\n",
       "  <thead>\n",
       "    <tr style=\"text-align: right;\">\n",
       "      <th></th>\n",
       "      <th>RYNOLDS</th>\n",
       "      <th>ALPHA</th>\n",
       "      <th>CL</th>\n",
       "      <th>CD</th>\n",
       "    </tr>\n",
       "  </thead>\n",
       "  <tbody>\n",
       "    <tr>\n",
       "      <th>0</th>\n",
       "      <td>40400.0</td>\n",
       "      <td>-1.20</td>\n",
       "      <td>0.12</td>\n",
       "      <td>0.0257</td>\n",
       "    </tr>\n",
       "    <tr>\n",
       "      <th>1</th>\n",
       "      <td>40400.0</td>\n",
       "      <td>0.88</td>\n",
       "      <td>0.329</td>\n",
       "      <td>0.0213</td>\n",
       "    </tr>\n",
       "    <tr>\n",
       "      <th>2</th>\n",
       "      <td>40400.0</td>\n",
       "      <td>2.77</td>\n",
       "      <td>0.543</td>\n",
       "      <td>0.0371</td>\n",
       "    </tr>\n",
       "    <tr>\n",
       "      <th>3</th>\n",
       "      <td>40400.0</td>\n",
       "      <td>5.00</td>\n",
       "      <td>0.839</td>\n",
       "      <td>0.0438</td>\n",
       "    </tr>\n",
       "    <tr>\n",
       "      <th>4</th>\n",
       "      <td>40400.0</td>\n",
       "      <td>6.98</td>\n",
       "      <td>1.002</td>\n",
       "      <td>0.0346</td>\n",
       "    </tr>\n",
       "  </tbody>\n",
       "</table>\n",
       "</div>"
      ],
      "text/plain": [
       "   RYNOLDS  ALPHA     CL      CD\n",
       "0  40400.0  -1.20   0.12  0.0257\n",
       "1  40400.0   0.88  0.329  0.0213\n",
       "2  40400.0   2.77  0.543  0.0371\n",
       "3  40400.0   5.00  0.839  0.0438\n",
       "4  40400.0   6.98  1.002  0.0346"
      ]
     },
     "execution_count": 44,
     "metadata": {},
     "output_type": "execute_result"
    }
   ],
   "source": [
    "data.head()"
   ]
  },
  {
   "cell_type": "code",
   "execution_count": 4,
   "id": "d67e845b",
   "metadata": {},
   "outputs": [
    {
     "data": {
      "text/plain": [
       "(13138, 4)"
      ]
     },
     "execution_count": 4,
     "metadata": {},
     "output_type": "execute_result"
    }
   ],
   "source": [
    "data.shape"
   ]
  },
  {
   "cell_type": "markdown",
   "id": "55c800fc",
   "metadata": {},
   "source": [
    "No missing values here"
   ]
  },
  {
   "cell_type": "code",
   "execution_count": 5,
   "id": "60678ba5",
   "metadata": {},
   "outputs": [
    {
     "data": {
      "text/plain": [
       "RYNOLDS    0\n",
       "ALPHA      0\n",
       "CL         0\n",
       "CD         0\n",
       "dtype: int64"
      ]
     },
     "execution_count": 5,
     "metadata": {},
     "output_type": "execute_result"
    }
   ],
   "source": [
    "data.isna().sum()"
   ]
  },
  {
   "cell_type": "markdown",
   "id": "5627a3e1",
   "metadata": {},
   "source": [
    "**Reading Visual data**"
   ]
  },
  {
   "cell_type": "code",
   "execution_count": 6,
   "id": "9c5502e9",
   "metadata": {},
   "outputs": [],
   "source": [
    "pxl_doc = openpyxl.load_workbook('final edition.xlsx')"
   ]
  },
  {
   "cell_type": "code",
   "execution_count": 7,
   "id": "03f35525",
   "metadata": {},
   "outputs": [],
   "source": [
    "sheet = pxl_doc['V1']"
   ]
  },
  {
   "cell_type": "code",
   "execution_count": 8,
   "id": "025a0741",
   "metadata": {},
   "outputs": [],
   "source": [
    "image_loader = SheetImageLoader(sheet)"
   ]
  },
  {
   "cell_type": "markdown",
   "id": "1cd63e74",
   "metadata": {},
   "source": [
    "A list to store images"
   ]
  },
  {
   "cell_type": "code",
   "execution_count": 9,
   "id": "626fbb46",
   "metadata": {},
   "outputs": [],
   "source": [
    "images = []"
   ]
  },
  {
   "cell_type": "markdown",
   "id": "24dc1708",
   "metadata": {},
   "source": [
    "A list to store missing images if there exists any"
   ]
  },
  {
   "cell_type": "code",
   "execution_count": 10,
   "id": "71ba6342",
   "metadata": {},
   "outputs": [],
   "source": [
    "missing_cells = []"
   ]
  },
  {
   "cell_type": "code",
   "execution_count": 11,
   "id": "4bdde360",
   "metadata": {},
   "outputs": [],
   "source": [
    "# Iterating all cells\n",
    "for i in range(2, 13140):\n",
    "    cell = 'F' + str(i)\n",
    "    try:\n",
    "        image = image_loader.get(cell)\n",
    "        # Preprocessing image (resizing and reducing dimension)\n",
    "        image = image.convert('RGB').resize((64, 64))\n",
    "        images.append(image)\n",
    "    except ValueError as e:\n",
    "        # if an error raises, the image does not exist\n",
    "        e = str(e)\n",
    "        start_index = e.find('F')\n",
    "        end_index = e.find(' ', start_index)\n",
    "        missing_cells.append(e[start_index: end_index])\n",
    "        continue"
   ]
  },
  {
   "cell_type": "code",
   "execution_count": 12,
   "id": "9ebb5a9f",
   "metadata": {},
   "outputs": [
    {
     "data": {
      "text/plain": [
       "12304"
      ]
     },
     "execution_count": 12,
     "metadata": {},
     "output_type": "execute_result"
    }
   ],
   "source": [
    "len(images)"
   ]
  },
  {
   "cell_type": "code",
   "execution_count": 13,
   "id": "6bf5f30e",
   "metadata": {},
   "outputs": [
    {
     "data": {
      "text/plain": [
       "834"
      ]
     },
     "execution_count": 13,
     "metadata": {},
     "output_type": "execute_result"
    }
   ],
   "source": [
    "len(missing_cells)"
   ]
  },
  {
   "cell_type": "markdown",
   "id": "3e54e5ed",
   "metadata": {},
   "source": [
    "There are 834 missing images in the dataset that need to be removed"
   ]
  },
  {
   "cell_type": "markdown",
   "id": "c4441c29",
   "metadata": {},
   "source": [
    "Now we need to remove those missing records from the textual data"
   ]
  },
  {
   "cell_type": "code",
   "execution_count": 14,
   "id": "1448c1fd",
   "metadata": {},
   "outputs": [],
   "source": [
    "for cell_name in missing_cells:\n",
    "    col, row = cell_name[0], int(cell_name[1:]) - 1\n",
    "    data.drop(index=row, inplace=True)"
   ]
  },
  {
   "cell_type": "markdown",
   "id": "f70c9564",
   "metadata": {},
   "source": [
    "Take a look at both datasets"
   ]
  },
  {
   "cell_type": "code",
   "execution_count": 15,
   "id": "0d5b570c",
   "metadata": {},
   "outputs": [
    {
     "data": {
      "text/plain": [
       "(12304, 4)"
      ]
     },
     "execution_count": 15,
     "metadata": {},
     "output_type": "execute_result"
    }
   ],
   "source": [
    "data.shape"
   ]
  },
  {
   "cell_type": "code",
   "execution_count": 16,
   "id": "2abc54bf",
   "metadata": {},
   "outputs": [
    {
     "data": {
      "text/plain": [
       "12304"
      ]
     },
     "execution_count": 16,
     "metadata": {},
     "output_type": "execute_result"
    }
   ],
   "source": [
    "len(images)"
   ]
  },
  {
   "cell_type": "code",
   "execution_count": 17,
   "id": "bb04b02b",
   "metadata": {},
   "outputs": [
    {
     "data": {
      "text/plain": [
       "list"
      ]
     },
     "execution_count": 17,
     "metadata": {},
     "output_type": "execute_result"
    }
   ],
   "source": [
    "type(images)"
   ]
  },
  {
   "cell_type": "code",
   "execution_count": 18,
   "id": "7d97a673",
   "metadata": {},
   "outputs": [],
   "source": [
    "images = np.array(images)"
   ]
  },
  {
   "cell_type": "code",
   "execution_count": 19,
   "id": "88504d21",
   "metadata": {},
   "outputs": [
    {
     "data": {
      "text/plain": [
       "(12304, 64, 64, 3)"
      ]
     },
     "execution_count": 19,
     "metadata": {},
     "output_type": "execute_result"
    }
   ],
   "source": [
    "images.shape"
   ]
  },
  {
   "cell_type": "markdown",
   "id": "e3f3d29a",
   "metadata": {},
   "source": [
    "For sample one we have:"
   ]
  },
  {
   "cell_type": "code",
   "execution_count": 20,
   "id": "0697fca4",
   "metadata": {},
   "outputs": [
    {
     "data": {
      "text/plain": [
       "RYNOLDS    40400.0\n",
       "ALPHA         -1.2\n",
       "CL            0.12\n",
       "CD          0.0257\n",
       "Name: 0, dtype: object"
      ]
     },
     "execution_count": 20,
     "metadata": {},
     "output_type": "execute_result"
    }
   ],
   "source": [
    "data.iloc[0]"
   ]
  },
  {
   "cell_type": "code",
   "execution_count": 21,
   "id": "e15e24fe",
   "metadata": {},
   "outputs": [
    {
     "data": {
      "image/png": "[encoded data removed]",
      "text/plain": [
       "<Figure size 432x288 with 1 Axes>"
      ]
     },
     "metadata": {
      "needs_background": "light"
     },
     "output_type": "display_data"
    }
   ],
   "source": [
    "plt.imshow(images[0])\n",
    "plt.axis('off')\n",
    "plt.show()"
   ]
  },
  {
   "cell_type": "markdown",
   "id": "892c13c0",
   "metadata": {},
   "source": [
    "## Preprocessing Data"
   ]
  },
  {
   "cell_type": "code",
   "execution_count": 22,
   "id": "4e9b7291",
   "metadata": {},
   "outputs": [
    {
     "name": "stdout",
     "output_type": "stream",
     "text": [
      "<class 'pandas.core.frame.DataFrame'>\n",
      "Index: 12304 entries, 0 to 13137\n",
      "Data columns (total 4 columns):\n",
      " #   Column   Non-Null Count  Dtype  \n",
      "---  ------   --------------  -----  \n",
      " 0   RYNOLDS  12304 non-null  float64\n",
      " 1   ALPHA    12304 non-null  float64\n",
      " 2   CL       12304 non-null  object \n",
      " 3   CD       12304 non-null  object \n",
      "dtypes: float64(2), object(2)\n",
      "memory usage: 480.6+ KB\n"
     ]
    }
   ],
   "source": [
    "data.info()"
   ]
  },
  {
   "cell_type": "markdown",
   "id": "6eed3539",
   "metadata": {},
   "source": [
    "Convert to float"
   ]
  },
  {
   "cell_type": "code",
   "execution_count": 46,
   "id": "59bf42a4",
   "metadata": {},
   "outputs": [],
   "source": [
    "data['CL'] = pd.to_numeric(data['CL'], errors='coerce')\n",
    "data['CD'] = pd.to_numeric(data['CD'], errors='coerce')"
   ]
  },
  {
   "cell_type": "markdown",
   "id": "e74dac56",
   "metadata": {},
   "source": [
    "This may create NaN values"
   ]
  },
  {
   "cell_type": "code",
   "execution_count": 47,
   "id": "c18fa5aa",
   "metadata": {},
   "outputs": [
    {
     "data": {
      "text/plain": [
       "RYNOLDS     0\n",
       "ALPHA       0\n",
       "CL          1\n",
       "CD         12\n",
       "dtype: int64"
      ]
     },
     "execution_count": 47,
     "metadata": {},
     "output_type": "execute_result"
    }
   ],
   "source": [
    "data.isna().sum()"
   ]
  },
  {
   "cell_type": "markdown",
   "id": "88c24457",
   "metadata": {},
   "source": [
    "Replacing with median"
   ]
  },
  {
   "cell_type": "code",
   "execution_count": 48,
   "id": "cffe7a83",
   "metadata": {},
   "outputs": [],
   "source": [
    "data['CD'].fillna(data['CD'].median(), inplace=True)\n",
    "data['CL'].fillna(data['CL'].median(), inplace=True)"
   ]
  },
  {
   "cell_type": "markdown",
   "id": "901ffc2c",
   "metadata": {},
   "source": [
    "**Scaling**"
   ]
  },
  {
   "cell_type": "code",
   "execution_count": 26,
   "id": "cef16bf2",
   "metadata": {},
   "outputs": [],
   "source": [
    "images = images / 255.0"
   ]
  },
  {
   "cell_type": "markdown",
   "id": "cc684128",
   "metadata": {},
   "source": [
    "Splitting data"
   ]
  },
  {
   "cell_type": "code",
   "execution_count": 65,
   "id": "c012ff39",
   "metadata": {},
   "outputs": [],
   "source": [
    "X_train, X_test, IX_train, IX_test = train_test_split(data, images, random_state=5)"
   ]
  },
  {
   "cell_type": "markdown",
   "id": "24c6627e",
   "metadata": {},
   "source": [
    "There are 2 targets"
   ]
  },
  {
   "cell_type": "code",
   "execution_count": 66,
   "id": "9cffd939",
   "metadata": {},
   "outputs": [],
   "source": [
    "y_train = X_train[['CL', 'CD']].values\n",
    "y_test = X_test[['CL', 'CD']].values"
   ]
  },
  {
   "cell_type": "markdown",
   "id": "21b82668",
   "metadata": {},
   "source": [
    "Standardization"
   ]
  },
  {
   "cell_type": "code",
   "execution_count": 67,
   "id": "8a3b0d39",
   "metadata": {},
   "outputs": [],
   "source": [
    "ss = StandardScaler()\n",
    "X_train = ss.fit_transform(X_train[['RYNOLDS', 'ALPHA']])\n",
    "X_test = ss.transform(X_test[['RYNOLDS', 'ALPHA']])"
   ]
  },
  {
   "cell_type": "code",
   "execution_count": 68,
   "id": "04b95df1",
   "metadata": {},
   "outputs": [
    {
     "name": "stdout",
     "output_type": "stream",
     "text": [
      "(9228, 64, 64, 3)\n",
      "(9228, 2)\n"
     ]
    }
   ],
   "source": [
    "print(IX_train.shape)\n",
    "print(y_train.shape)"
   ]
  },
  {
   "cell_type": "code",
   "execution_count": 69,
   "id": "218bd9b3",
   "metadata": {},
   "outputs": [
    {
     "name": "stdout",
     "output_type": "stream",
     "text": [
      "(3076, 64, 64, 3)\n",
      "(3076, 2)\n"
     ]
    }
   ],
   "source": [
    "print(IX_test.shape)\n",
    "print(y_test.shape)"
   ]
  },
  {
   "cell_type": "code",
   "execution_count": 70,
   "id": "b9a3089a",
   "metadata": {},
   "outputs": [],
   "source": [
    "train_first_output = y_train[:, 0].reshape((-1,1))\n",
    "train_second_output = y_train[:, 1].reshape((-1,1))\n",
    "test_first_output = y_test[:, 0].reshape((-1,1))\n",
    "test_second_output = y_test[:, 1].reshape((-1,1))"
   ]
  },
  {
   "cell_type": "markdown",
   "id": "9c5257ed",
   "metadata": {},
   "source": [
    "---\n",
    "## Modeling\n",
    "Two input channels\n",
    "* Textual data\n",
    "* Visual data\n",
    "\n",
    "\n",
    "Two output channels\n",
    "* CD\n",
    "* CL"
   ]
  },
  {
   "cell_type": "code",
   "execution_count": 142,
   "id": "39d1386d",
   "metadata": {},
   "outputs": [],
   "source": [
    "# Channel One => CNN\n",
    "input_shape = (64, 64, 3)\n",
    "input1 = Input(shape=input_shape)\n",
    "conv1 = Conv2D(16, (3, 3), padding='same', activation='relu')(input1)\n",
    "batchnorm1 = BatchNormalization(axis=-1)(conv1)\n",
    "maxpool1 = MaxPooling2D(pool_size=(2, 2))(batchnorm1)\n",
    "\n",
    "conv2 = Conv2D(32, (3, 3), padding='same', activation='relu')(maxpool1)\n",
    "batchnorm2 = BatchNormalization(axis=-1)(conv2)\n",
    "maxpool2 = MaxPooling2D(pool_size=(2, 2))(batchnorm2)\n",
    "\n",
    "conv3 = Conv2D(64, (3, 3), padding='same', activation='relu')(maxpool2)\n",
    "batchnorm3 = BatchNormalization(axis=-1)(conv3)\n",
    "maxpool3 = MaxPooling2D(pool_size=(2, 2))(batchnorm3)\n",
    "\n",
    "flatten1 = Flatten()(maxpool3)\n",
    "dense1 = Dense(64, activation='relu')(flatten1)\n",
    "batchnorm4 = BatchNormalization(axis=-1)(dense1)\n",
    "dropout1 = Dropout(0.5)(batchnorm4)\n",
    "m1 = Model(input1, dropout1)\n",
    "\n",
    "# Channel Two => Multi-Layer Perceptron\n",
    "m2 = Sequential()\n",
    "m2.add(Dense(8, activation='relu', input_dim=2))\n",
    "m2.add(Dense(4, activation='relu'))\n",
    "\n",
    "# Combination\n",
    "combinedModel = concatenate([m2.output, m1.output])\n",
    "\n",
    "# First side of the output\n",
    "densefs1 = Dense(8, activation='relu')(combinedModel)\n",
    "densefs2 = Dense(1, activation='linear')(densefs1)\n",
    "\n",
    "# Second side of the output\n",
    "densefss1 = Dense(32, activation='relu')(combinedModel)\n",
    "densefss1 = Dense(16, activation='relu')(densefss1)\n",
    "densefss2 = Dense(1, activation='linear')(densefss1)\n",
    "\n",
    "# Final model\n",
    "model = Model(inputs=[m2.input, m1.input], outputs=[densefs2, densefss2])"
   ]
  },
  {
   "cell_type": "code",
   "execution_count": 143,
   "id": "df0856fe",
   "metadata": {},
   "outputs": [
    {
     "name": "stdout",
     "output_type": "stream",
     "text": [
      "Model: \"model_17\"\n",
      "__________________________________________________________________________________________________\n",
      " Layer (type)                   Output Shape         Param #     Connected to                     \n",
      "==================================================================================================\n",
      " input_9 (InputLayer)           [(None, 64, 64, 3)]  0           []                               \n",
      "                                                                                                  \n",
      " conv2d_26 (Conv2D)             (None, 64, 64, 16)   448         ['input_9[0][0]']                \n",
      "                                                                                                  \n",
      " batch_normalization_32 (BatchN  (None, 64, 64, 16)  64          ['conv2d_26[0][0]']              \n",
      " ormalization)                                                                                    \n",
      "                                                                                                  \n",
      " max_pooling2d_24 (MaxPooling2D  (None, 32, 32, 16)  0           ['batch_normalization_32[0][0]'] \n",
      " )                                                                                                \n",
      "                                                                                                  \n",
      " conv2d_27 (Conv2D)             (None, 32, 32, 32)   4640        ['max_pooling2d_24[0][0]']       \n",
      "                                                                                                  \n",
      " batch_normalization_33 (BatchN  (None, 32, 32, 32)  128         ['conv2d_27[0][0]']              \n",
      " ormalization)                                                                                    \n",
      "                                                                                                  \n",
      " max_pooling2d_25 (MaxPooling2D  (None, 16, 16, 32)  0           ['batch_normalization_33[0][0]'] \n",
      " )                                                                                                \n",
      "                                                                                                  \n",
      " conv2d_28 (Conv2D)             (None, 16, 16, 64)   18496       ['max_pooling2d_25[0][0]']       \n",
      "                                                                                                  \n",
      " batch_normalization_34 (BatchN  (None, 16, 16, 64)  256         ['conv2d_28[0][0]']              \n",
      " ormalization)                                                                                    \n",
      "                                                                                                  \n",
      " max_pooling2d_26 (MaxPooling2D  (None, 8, 8, 64)    0           ['batch_normalization_34[0][0]'] \n",
      " )                                                                                                \n",
      "                                                                                                  \n",
      " flatten_8 (Flatten)            (None, 4096)         0           ['max_pooling2d_26[0][0]']       \n",
      "                                                                                                  \n",
      " dense_75_input (InputLayer)    [(None, 2)]          0           []                               \n",
      "                                                                                                  \n",
      " dense_74 (Dense)               (None, 64)           262208      ['flatten_8[0][0]']              \n",
      "                                                                                                  \n",
      " dense_75 (Dense)               (None, 8)            24          ['dense_75_input[0][0]']         \n",
      "                                                                                                  \n",
      " batch_normalization_35 (BatchN  (None, 64)          256         ['dense_74[0][0]']               \n",
      " ormalization)                                                                                    \n",
      "                                                                                                  \n",
      " dense_76 (Dense)               (None, 4)            36          ['dense_75[0][0]']               \n",
      "                                                                                                  \n",
      " dropout_18 (Dropout)           (None, 64)           0           ['batch_normalization_35[0][0]'] \n",
      "                                                                                                  \n",
      " concatenate_8 (Concatenate)    (None, 68)           0           ['dense_76[0][0]',               \n",
      "                                                                  'dropout_18[0][0]']             \n",
      "                                                                                                  \n",
      " dense_79 (Dense)               (None, 32)           2208        ['concatenate_8[0][0]']          \n",
      "                                                                                                  \n",
      " dense_77 (Dense)               (None, 8)            552         ['concatenate_8[0][0]']          \n",
      "                                                                                                  \n",
      " dense_80 (Dense)               (None, 16)           528         ['dense_79[0][0]']               \n",
      "                                                                                                  \n",
      " dense_78 (Dense)               (None, 1)            9           ['dense_77[0][0]']               \n",
      "                                                                                                  \n",
      " dense_81 (Dense)               (None, 1)            17          ['dense_80[0][0]']               \n",
      "                                                                                                  \n",
      "==================================================================================================\n",
      "Total params: 289,870\n",
      "Trainable params: 289,518\n",
      "Non-trainable params: 352\n",
      "__________________________________________________________________________________________________\n"
     ]
    }
   ],
   "source": [
    "model.summary()"
   ]
  },
  {
   "cell_type": "code",
   "execution_count": 144,
   "id": "31294fe2",
   "metadata": {
    "scrolled": false
   },
   "outputs": [
    {
     "data": {
      "image/png": "[encoded data removed]",
      "text/plain": [
       "<IPython.core.display.Image object>"
      ]
     },
     "execution_count": 144,
     "metadata": {},
     "output_type": "execute_result"
    }
   ],
   "source": [
    "plot_model(model, show_shapes=True)"
   ]
  },
  {
   "cell_type": "markdown",
   "id": "6e84aac6",
   "metadata": {},
   "source": [
    "Compiling model"
   ]
  },
  {
   "cell_type": "code",
   "execution_count": 145,
   "id": "bd69cb46",
   "metadata": {},
   "outputs": [],
   "source": [
    "model.compile(optimizer=Adam(0.001), loss='mse')"
   ]
  },
  {
   "cell_type": "code",
   "execution_count": 146,
   "id": "ec1e1950",
   "metadata": {},
   "outputs": [
    {
     "name": "stdout",
     "output_type": "stream",
     "text": [
      "Epoch 1/10\n",
      "145/145 [==============================] - 39s 257ms/step - loss: 0.6240 - dense_78_loss: 0.5371 - dense_81_loss: 0.0869 - val_loss: 3.3864 - val_dense_78_loss: 2.5670 - val_dense_81_loss: 0.8194\n",
      "Epoch 2/10\n",
      "145/145 [==============================] - 39s 272ms/step - loss: 0.2603 - dense_78_loss: 0.2443 - dense_81_loss: 0.0160 - val_loss: 1.0006 - val_dense_78_loss: 0.9463 - val_dense_81_loss: 0.0543\n",
      "Epoch 3/10\n",
      "145/145 [==============================] - 39s 271ms/step - loss: 0.1416 - dense_78_loss: 0.1322 - dense_81_loss: 0.0094 - val_loss: 0.3905 - val_dense_78_loss: 0.3548 - val_dense_81_loss: 0.0357\n",
      "Epoch 4/10\n",
      "145/145 [==============================] - 39s 272ms/step - loss: 0.0919 - dense_78_loss: 0.0858 - dense_81_loss: 0.0060 - val_loss: 0.6503 - val_dense_78_loss: 0.6372 - val_dense_81_loss: 0.0131\n",
      "Epoch 5/10\n",
      "145/145 [==============================] - 39s 272ms/step - loss: 0.0637 - dense_78_loss: 0.0590 - dense_81_loss: 0.0048 - val_loss: 0.0444 - val_dense_78_loss: 0.0415 - val_dense_81_loss: 0.0029\n",
      "Epoch 6/10\n",
      "145/145 [==============================] - 39s 272ms/step - loss: 0.0472 - dense_78_loss: 0.0435 - dense_81_loss: 0.0036 - val_loss: 0.0289 - val_dense_78_loss: 0.0263 - val_dense_81_loss: 0.0025\n",
      "Epoch 7/10\n",
      "145/145 [==============================] - 39s 272ms/step - loss: 0.0397 - dense_78_loss: 0.0366 - dense_81_loss: 0.0031 - val_loss: 0.0330 - val_dense_78_loss: 0.0302 - val_dense_81_loss: 0.0028\n",
      "Epoch 8/10\n",
      "145/145 [==============================] - 39s 272ms/step - loss: 0.0348 - dense_78_loss: 0.0321 - dense_81_loss: 0.0027 - val_loss: 0.0251 - val_dense_78_loss: 0.0231 - val_dense_81_loss: 0.0020\n",
      "Epoch 9/10\n",
      "145/145 [==============================] - 40s 278ms/step - loss: 0.0303 - dense_78_loss: 0.0277 - dense_81_loss: 0.0026 - val_loss: 0.0215 - val_dense_78_loss: 0.0197 - val_dense_81_loss: 0.0018\n",
      "Epoch 10/10\n",
      "145/145 [==============================] - 40s 274ms/step - loss: 0.0273 - dense_78_loss: 0.0249 - dense_81_loss: 0.0023 - val_loss: 0.0205 - val_dense_78_loss: 0.0190 - val_dense_81_loss: 0.0015\n"
     ]
    }
   ],
   "source": [
    "history = model.fit([X_train, IX_train], [train_first_output, train_second_output], epochs=10, batch_size=64, \n",
    "                    validation_data=([X_test, IX_test], [test_first_output, test_second_output]))"
   ]
  },
  {
   "cell_type": "markdown",
   "id": "f355f35c",
   "metadata": {},
   "source": [
    "## Evaluation\n",
    "### R2 Analysis"
   ]
  },
  {
   "cell_type": "code",
   "execution_count": 147,
   "id": "f0fe85be",
   "metadata": {},
   "outputs": [
    {
     "name": "stdout",
     "output_type": "stream",
     "text": [
      "97/97 [==============================] - 4s 40ms/step\n"
     ]
    }
   ],
   "source": [
    "predicts = model.predict([X_test, IX_test])"
   ]
  },
  {
   "cell_type": "code",
   "execution_count": 148,
   "id": "ffd73006",
   "metadata": {},
   "outputs": [
    {
     "data": {
      "text/plain": [
       "0.940207876315137"
      ]
     },
     "execution_count": 148,
     "metadata": {},
     "output_type": "execute_result"
    }
   ],
   "source": [
    "r2_score(y_pred=predicts[0].flatten(), y_true=test_first_output.flatten())"
   ]
  },
  {
   "cell_type": "markdown",
   "id": "f0d4a5d6",
   "metadata": {},
   "source": [
    "For the first output (CL feature) we have reached 94% as r2 which is quite high and reliable"
   ]
  },
  {
   "cell_type": "code",
   "execution_count": 149,
   "id": "cbb66ff0",
   "metadata": {},
   "outputs": [
    {
     "data": {
      "text/plain": [
       "0.4564319869586505"
      ]
     },
     "execution_count": 149,
     "metadata": {},
     "output_type": "execute_result"
    }
   ],
   "source": [
    "r2_score(y_pred=predicts[1].flatten(), y_true=test_second_output.flatten())"
   ]
  },
  {
   "cell_type": "markdown",
   "id": "54e5d609",
   "metadata": {},
   "source": [
    "For the second output we have reached 45%. It maay seem insufficient in comparison to the previous one but it is not and here is why."
   ]
  },
  {
   "cell_type": "code",
   "execution_count": 50,
   "id": "b0ac374a",
   "metadata": {},
   "outputs": [
    {
     "data": {
      "image/png": "[encoded data removed]",
      "text/plain": [
       "<Figure size 432x288 with 1 Axes>"
      ]
     },
     "metadata": {
      "needs_background": "light"
     },
     "output_type": "display_data"
    }
   ],
   "source": [
    "data['CD'].hist(bins=20)\n",
    "plt.show()"
   ]
  },
  {
   "cell_type": "markdown",
   "id": "2681a6b6",
   "metadata": {},
   "source": [
    "For this column, values are centered around zero which makes r2 score an inapproperiate metric. **Why?**\n",
    "\n",
    "R2 is sensitive when values are near zero and even one slight change results in high error. This makes the r2 score look not reliable but what is important to consider is that r2 is not a good metric for **CD** column."
   ]
  },
  {
   "cell_type": "markdown",
   "id": "8f5066ad",
   "metadata": {},
   "source": [
    "### Total Loss Analysis"
   ]
  },
  {
   "cell_type": "markdown",
   "id": "d4581fdb",
   "metadata": {},
   "source": [
    "According to the chart below, total loss is quite low and it is converged to almost zero."
   ]
  },
  {
   "cell_type": "code",
   "execution_count": 150,
   "id": "e756b076",
   "metadata": {},
   "outputs": [
    {
     "data": {
      "image/png": "[encoded data removed]",
      "text/plain": [
       "<Figure size 432x288 with 1 Axes>"
      ]
     },
     "metadata": {
      "needs_background": "light"
     },
     "output_type": "display_data"
    }
   ],
   "source": [
    "plt.plot(history.history['loss'], color='green', label='Train Data')\n",
    "plt.plot(history.history['val_loss'], color='blue', label='Validation Data')\n",
    "plt.title('Loss Function')\n",
    "plt.legend()\n",
    "plt.show()"
   ]
  },
  {
   "cell_type": "markdown",
   "id": "b03ac2ac",
   "metadata": {},
   "source": [
    "### MSE Analysis"
   ]
  },
  {
   "cell_type": "markdown",
   "id": "63128425",
   "metadata": {},
   "source": [
    "The chart below shows MSE for **CL** output which is quite low. This could be previously predicted due to its high r2 score.\n",
    "\n",
    "As the trainig went on, the loss corresponding to both training and validation converged to almost zero."
   ]
  },
  {
   "cell_type": "code",
   "execution_count": 151,
   "id": "466fc631",
   "metadata": {},
   "outputs": [
    {
     "data": {
      "image/png": "[encoded data removed]",
      "text/plain": [
       "<Figure size 432x288 with 1 Axes>"
      ]
     },
     "metadata": {
      "needs_background": "light"
     },
     "output_type": "display_data"
    }
   ],
   "source": [
    "plt.plot(history.history['dense_81_loss'], color='green', label='Train Data')\n",
    "plt.plot(history.history['val_dense_81_loss'], color='blue', label='Validation Data')\n",
    "plt.title('CL Loss Function')\n",
    "plt.legend()\n",
    "plt.show()"
   ]
  },
  {
   "cell_type": "markdown",
   "id": "84720496",
   "metadata": {},
   "source": [
    "At first, we saw that r2 score for **CD** was not as good as **CL** and the reason had something to do with its distribution. Here it is evident that MSE (loss) for **CL** converged to almost zero and its not insufficient.\n",
    "\n",
    "So 45% r2 score is good for the second output and relatively relilable."
   ]
  },
  {
   "cell_type": "code",
   "execution_count": 152,
   "id": "9d8c606a",
   "metadata": {},
   "outputs": [
    {
     "data": {
      "image/png": "[encoded data removed]",
      "text/plain": [
       "<Figure size 432x288 with 1 Axes>"
      ]
     },
     "metadata": {
      "needs_background": "light"
     },
     "output_type": "display_data"
    }
   ],
   "source": [
    "plt.plot(history.history['dense_78_loss'], color='green', label='Train Data')\n",
    "plt.plot(history.history['val_dense_78_loss'], color='blue', label='Validation Data')\n",
    "plt.title('CD Loss Function')\n",
    "plt.legend()\n",
    "plt.show()"
   ]
  },
  {
   "cell_type": "code",
   "execution_count": null,
   "id": "b278b588",
   "metadata": {},
   "outputs": [],
   "source": []
  }
 ],
 "metadata": {
  "kernelspec": {
   "display_name": "Python 3 (ipykernel)",
   "language": "python",
   "name": "python3"
  },
  "language_info": {
   "codemirror_mode": {
    "name": "ipython",
    "version": 3
   },
   "file_extension": ".py",
   "mimetype": "text/x-python",
   "name": "python",
   "nbconvert_exporter": "python",
   "pygments_lexer": "ipython3",
   "version": "3.9.12"
  }
 },
 "nbformat": 4,
 "nbformat_minor": 5
}
